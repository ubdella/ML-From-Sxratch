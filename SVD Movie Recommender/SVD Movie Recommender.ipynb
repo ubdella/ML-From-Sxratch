{
 "cells": [
  {
   "cell_type": "markdown",
   "metadata": {},
   "source": [
    "# Movie Recommendations HW"
   ]
  },
  {
   "cell_type": "markdown",
   "metadata": {
    "id": "_eJZKjLwzNna"
   },
   "source": [
    "**Name:**  Josh Cubero\n",
    "Student ID 10473247"
   ]
  },
  {
   "cell_type": "markdown",
   "metadata": {
    "id": "oJMOMW76zRl1"
   },
   "source": [
    "**Collaboration Policy:** Homeworks will be done individually: each student must hand in their own answers. Use of partial or entire solutions obtained from others or online is strictly prohibited."
   ]
  },
  {
   "cell_type": "markdown",
   "metadata": {},
   "source": [
    "**Late Policy:** Late submission have a penalty of 2\\% for each passing hour. "
   ]
  },
  {
   "cell_type": "markdown",
   "metadata": {},
   "source": [
    "**Submission format:** Successfully complete the Movie Lens recommender as described in this jupyter notebook. Submit a `.py` and an `.ipynb` file for this notebook. You can go to `File -> Download as ->` to download a .py version of the notebook. \n",
    "\n",
    "**Only submit one `.ipynb` file and one `.py` file.** The `.ipynb` file should have answers to all the questions. Do *not* zip any files for submission. "
   ]
  },
  {
   "cell_type": "markdown",
   "metadata": {},
   "source": [
    "**Download the dataset from here:** https://grouplens.org/datasets/movielens/1m/"
   ]
  },
  {
   "cell_type": "code",
   "execution_count": 1,
   "metadata": {
    "id": "75xbWQGNzkIg",
    "tags": []
   },
   "outputs": [],
   "source": [
    "# Import all the required libraries\n",
    "import numpy as np\n",
    "import pandas as pd"
   ]
  },
  {
   "cell_type": "markdown",
   "metadata": {
    "id": "60S7heeN0GiR"
   },
   "source": [
    "## Reading the Data\n",
    "Now that we have downloaded the files from the link above and placed them in the same directory as this Jupyter Notebook, we can load each of the tables of data as a CSV into Pandas. Execute the following, provided code."
   ]
  },
  {
   "cell_type": "code",
   "execution_count": 7,
   "metadata": {
    "colab": {
     "base_uri": "https://localhost:8080/"
    },
    "id": "1biZX5iFzOOi",
    "outputId": "2154c7e4-cc85-4d40-e3ac-6e46e8b16ee6",
    "scrolled": true,
    "tags": []
   },
   "outputs": [
    {
     "name": "stderr",
     "output_type": "stream",
     "text": [
      "C:\\Users\\kaizu\\AppData\\Local\\Temp\\ipykernel_7740\\3293905384.py:3: ParserWarning: Falling back to the 'python' engine because the 'c' engine does not support regex separators (separators > 1 char and different from '\\s+' are interpreted as regex); you can avoid this warning by specifying engine='python'.\n",
      "  ratings_data  = pd.read_csv('ratings.dat',sep='::',names = column_list_ratings)\n",
      "C:\\Users\\kaizu\\AppData\\Local\\Temp\\ipykernel_7740\\3293905384.py:5: ParserWarning: Falling back to the 'python' engine because the 'c' engine does not support regex separators (separators > 1 char and different from '\\s+' are interpreted as regex); you can avoid this warning by specifying engine='python'.\n",
      "  movies_data = pd.read_csv('movies.dat',sep = '::',names = column_list_movies,encoding= \"latin-1\")\n",
      "C:\\Users\\kaizu\\AppData\\Local\\Temp\\ipykernel_7740\\3293905384.py:7: ParserWarning: Falling back to the 'python' engine because the 'c' engine does not support regex separators (separators > 1 char and different from '\\s+' are interpreted as regex); you can avoid this warning by specifying engine='python'.\n",
      "  user_data = pd.read_csv(\"users.dat\",sep = \"::\",names = column_list_users)\n"
     ]
    }
   ],
   "source": [
    "# Read the dataset from the two files into ratings_data and movies_data\n",
    "column_list_ratings = [\"UserID\", \"MovieID\", \"Ratings\",\"Timestamp\"]\n",
    "ratings_data  = pd.read_csv('ratings.dat',sep='::',names = column_list_ratings)\n",
    "column_list_movies = [\"MovieID\",\"Title\",\"Genres\"]\n",
    "movies_data = pd.read_csv('movies.dat',sep = '::',names = column_list_movies,encoding= \"latin-1\")\n",
    "column_list_users = [\"UserID\",\"Gender\",\"Age\",\"Occupation\",\"Zixp-code\"]\n",
    "user_data = pd.read_csv(\"users.dat\",sep = \"::\",names = column_list_users)"
   ]
  },
  {
   "cell_type": "markdown",
   "metadata": {},
   "source": [
    "`ratings_data`, `movies_data`, `user_data` corresponds to the data loaded from `ratings.dat`, `movies.dat`, and `users.dat` in Pandas."
   ]
  },
  {
   "cell_type": "markdown",
   "metadata": {
    "id": "4wn6AJdh_sEP"
   },
   "source": [
    "## Data analysis"
   ]
  },
  {
   "cell_type": "markdown",
   "metadata": {
    "id": "4wn6AJdh_sEP"
   },
   "source": [
    "We now have all our data in Pandas - however, it's as three separate datasets! To make some more sense out of the data we have, we can use the Pandas `merge` function to combine our component data-frames. Run the following code:"
   ]
  },
  {
   "cell_type": "code",
   "execution_count": 8,
   "metadata": {
    "id": "4wn6AJdh_sEP",
    "tags": []
   },
   "outputs": [
    {
     "data": {
      "text/html": [
       "<div>\n",
       "<style scoped>\n",
       "    .dataframe tbody tr th:only-of-type {\n",
       "        vertical-align: middle;\n",
       "    }\n",
       "\n",
       "    .dataframe tbody tr th {\n",
       "        vertical-align: top;\n",
       "    }\n",
       "\n",
       "    .dataframe thead th {\n",
       "        text-align: right;\n",
       "    }\n",
       "</style>\n",
       "<table border=\"1\" class=\"dataframe\">\n",
       "  <thead>\n",
       "    <tr style=\"text-align: right;\">\n",
       "      <th></th>\n",
       "      <th>UserID</th>\n",
       "      <th>MovieID</th>\n",
       "      <th>Ratings</th>\n",
       "      <th>Timestamp</th>\n",
       "      <th>Gender</th>\n",
       "      <th>Age</th>\n",
       "      <th>Occupation</th>\n",
       "      <th>Zixp-code</th>\n",
       "      <th>Title</th>\n",
       "      <th>Genres</th>\n",
       "    </tr>\n",
       "  </thead>\n",
       "  <tbody>\n",
       "    <tr>\n",
       "      <th>0</th>\n",
       "      <td>1</td>\n",
       "      <td>1193</td>\n",
       "      <td>5</td>\n",
       "      <td>978300760</td>\n",
       "      <td>F</td>\n",
       "      <td>1</td>\n",
       "      <td>10</td>\n",
       "      <td>48067</td>\n",
       "      <td>One Flew Over the Cuckoo's Nest (1975)</td>\n",
       "      <td>Drama</td>\n",
       "    </tr>\n",
       "    <tr>\n",
       "      <th>1</th>\n",
       "      <td>2</td>\n",
       "      <td>1193</td>\n",
       "      <td>5</td>\n",
       "      <td>978298413</td>\n",
       "      <td>M</td>\n",
       "      <td>56</td>\n",
       "      <td>16</td>\n",
       "      <td>70072</td>\n",
       "      <td>One Flew Over the Cuckoo's Nest (1975)</td>\n",
       "      <td>Drama</td>\n",
       "    </tr>\n",
       "    <tr>\n",
       "      <th>2</th>\n",
       "      <td>12</td>\n",
       "      <td>1193</td>\n",
       "      <td>4</td>\n",
       "      <td>978220179</td>\n",
       "      <td>M</td>\n",
       "      <td>25</td>\n",
       "      <td>12</td>\n",
       "      <td>32793</td>\n",
       "      <td>One Flew Over the Cuckoo's Nest (1975)</td>\n",
       "      <td>Drama</td>\n",
       "    </tr>\n",
       "    <tr>\n",
       "      <th>3</th>\n",
       "      <td>15</td>\n",
       "      <td>1193</td>\n",
       "      <td>4</td>\n",
       "      <td>978199279</td>\n",
       "      <td>M</td>\n",
       "      <td>25</td>\n",
       "      <td>7</td>\n",
       "      <td>22903</td>\n",
       "      <td>One Flew Over the Cuckoo's Nest (1975)</td>\n",
       "      <td>Drama</td>\n",
       "    </tr>\n",
       "    <tr>\n",
       "      <th>4</th>\n",
       "      <td>17</td>\n",
       "      <td>1193</td>\n",
       "      <td>5</td>\n",
       "      <td>978158471</td>\n",
       "      <td>M</td>\n",
       "      <td>50</td>\n",
       "      <td>1</td>\n",
       "      <td>95350</td>\n",
       "      <td>One Flew Over the Cuckoo's Nest (1975)</td>\n",
       "      <td>Drama</td>\n",
       "    </tr>\n",
       "    <tr>\n",
       "      <th>...</th>\n",
       "      <td>...</td>\n",
       "      <td>...</td>\n",
       "      <td>...</td>\n",
       "      <td>...</td>\n",
       "      <td>...</td>\n",
       "      <td>...</td>\n",
       "      <td>...</td>\n",
       "      <td>...</td>\n",
       "      <td>...</td>\n",
       "      <td>...</td>\n",
       "    </tr>\n",
       "    <tr>\n",
       "      <th>1000204</th>\n",
       "      <td>5949</td>\n",
       "      <td>2198</td>\n",
       "      <td>5</td>\n",
       "      <td>958846401</td>\n",
       "      <td>M</td>\n",
       "      <td>18</td>\n",
       "      <td>17</td>\n",
       "      <td>47901</td>\n",
       "      <td>Modulations (1998)</td>\n",
       "      <td>Documentary</td>\n",
       "    </tr>\n",
       "    <tr>\n",
       "      <th>1000205</th>\n",
       "      <td>5675</td>\n",
       "      <td>2703</td>\n",
       "      <td>3</td>\n",
       "      <td>976029116</td>\n",
       "      <td>M</td>\n",
       "      <td>35</td>\n",
       "      <td>14</td>\n",
       "      <td>30030</td>\n",
       "      <td>Broken Vessels (1998)</td>\n",
       "      <td>Drama</td>\n",
       "    </tr>\n",
       "    <tr>\n",
       "      <th>1000206</th>\n",
       "      <td>5780</td>\n",
       "      <td>2845</td>\n",
       "      <td>1</td>\n",
       "      <td>958153068</td>\n",
       "      <td>M</td>\n",
       "      <td>18</td>\n",
       "      <td>17</td>\n",
       "      <td>92886</td>\n",
       "      <td>White Boys (1999)</td>\n",
       "      <td>Drama</td>\n",
       "    </tr>\n",
       "    <tr>\n",
       "      <th>1000207</th>\n",
       "      <td>5851</td>\n",
       "      <td>3607</td>\n",
       "      <td>5</td>\n",
       "      <td>957756608</td>\n",
       "      <td>F</td>\n",
       "      <td>18</td>\n",
       "      <td>20</td>\n",
       "      <td>55410</td>\n",
       "      <td>One Little Indian (1973)</td>\n",
       "      <td>Comedy|Drama|Western</td>\n",
       "    </tr>\n",
       "    <tr>\n",
       "      <th>1000208</th>\n",
       "      <td>5938</td>\n",
       "      <td>2909</td>\n",
       "      <td>4</td>\n",
       "      <td>957273353</td>\n",
       "      <td>M</td>\n",
       "      <td>25</td>\n",
       "      <td>1</td>\n",
       "      <td>35401</td>\n",
       "      <td>Five Wives, Three Secretaries and Me (1998)</td>\n",
       "      <td>Documentary</td>\n",
       "    </tr>\n",
       "  </tbody>\n",
       "</table>\n",
       "<p>1000209 rows × 10 columns</p>\n",
       "</div>"
      ],
      "text/plain": [
       "         UserID  MovieID  Ratings  Timestamp Gender  Age  Occupation  \\\n",
       "0             1     1193        5  978300760      F    1          10   \n",
       "1             2     1193        5  978298413      M   56          16   \n",
       "2            12     1193        4  978220179      M   25          12   \n",
       "3            15     1193        4  978199279      M   25           7   \n",
       "4            17     1193        5  978158471      M   50           1   \n",
       "...         ...      ...      ...        ...    ...  ...         ...   \n",
       "1000204    5949     2198        5  958846401      M   18          17   \n",
       "1000205    5675     2703        3  976029116      M   35          14   \n",
       "1000206    5780     2845        1  958153068      M   18          17   \n",
       "1000207    5851     3607        5  957756608      F   18          20   \n",
       "1000208    5938     2909        4  957273353      M   25           1   \n",
       "\n",
       "        Zixp-code                                        Title  \\\n",
       "0           48067       One Flew Over the Cuckoo's Nest (1975)   \n",
       "1           70072       One Flew Over the Cuckoo's Nest (1975)   \n",
       "2           32793       One Flew Over the Cuckoo's Nest (1975)   \n",
       "3           22903       One Flew Over the Cuckoo's Nest (1975)   \n",
       "4           95350       One Flew Over the Cuckoo's Nest (1975)   \n",
       "...           ...                                          ...   \n",
       "1000204     47901                           Modulations (1998)   \n",
       "1000205     30030                        Broken Vessels (1998)   \n",
       "1000206     92886                            White Boys (1999)   \n",
       "1000207     55410                     One Little Indian (1973)   \n",
       "1000208     35401  Five Wives, Three Secretaries and Me (1998)   \n",
       "\n",
       "                       Genres  \n",
       "0                       Drama  \n",
       "1                       Drama  \n",
       "2                       Drama  \n",
       "3                       Drama  \n",
       "4                       Drama  \n",
       "...                       ...  \n",
       "1000204           Documentary  \n",
       "1000205                 Drama  \n",
       "1000206                 Drama  \n",
       "1000207  Comedy|Drama|Western  \n",
       "1000208           Documentary  \n",
       "\n",
       "[1000209 rows x 10 columns]"
      ]
     },
     "execution_count": 8,
     "metadata": {},
     "output_type": "execute_result"
    }
   ],
   "source": [
    "data=pd.merge(pd.merge(ratings_data,user_data),movies_data)\n",
    "data"
   ]
  },
  {
   "cell_type": "markdown",
   "metadata": {
    "id": "4wn6AJdh_sEP"
   },
   "source": [
    "Next, we can create a pivot table to match the ratings with a given movie title. Using `data.pivot_table`, we can aggregate (using the average/`mean` function) the reviews and find the average rating for each movie. We can save this pivot table into the `mean_ratings` variable. "
   ]
  },
  {
   "cell_type": "code",
   "execution_count": 9,
   "metadata": {
    "id": "4wn6AJdh_sEP",
    "tags": []
   },
   "outputs": [
    {
     "data": {
      "text/html": [
       "<div>\n",
       "<style scoped>\n",
       "    .dataframe tbody tr th:only-of-type {\n",
       "        vertical-align: middle;\n",
       "    }\n",
       "\n",
       "    .dataframe tbody tr th {\n",
       "        vertical-align: top;\n",
       "    }\n",
       "\n",
       "    .dataframe thead th {\n",
       "        text-align: right;\n",
       "    }\n",
       "</style>\n",
       "<table border=\"1\" class=\"dataframe\">\n",
       "  <thead>\n",
       "    <tr style=\"text-align: right;\">\n",
       "      <th></th>\n",
       "      <th>Ratings</th>\n",
       "    </tr>\n",
       "    <tr>\n",
       "      <th>Title</th>\n",
       "      <th></th>\n",
       "    </tr>\n",
       "  </thead>\n",
       "  <tbody>\n",
       "    <tr>\n",
       "      <th>$1,000,000 Duck (1971)</th>\n",
       "      <td>3.027027</td>\n",
       "    </tr>\n",
       "    <tr>\n",
       "      <th>'Night Mother (1986)</th>\n",
       "      <td>3.371429</td>\n",
       "    </tr>\n",
       "    <tr>\n",
       "      <th>'Til There Was You (1997)</th>\n",
       "      <td>2.692308</td>\n",
       "    </tr>\n",
       "    <tr>\n",
       "      <th>'burbs, The (1989)</th>\n",
       "      <td>2.910891</td>\n",
       "    </tr>\n",
       "    <tr>\n",
       "      <th>...And Justice for All (1979)</th>\n",
       "      <td>3.713568</td>\n",
       "    </tr>\n",
       "    <tr>\n",
       "      <th>...</th>\n",
       "      <td>...</td>\n",
       "    </tr>\n",
       "    <tr>\n",
       "      <th>Zed &amp; Two Noughts, A (1985)</th>\n",
       "      <td>3.413793</td>\n",
       "    </tr>\n",
       "    <tr>\n",
       "      <th>Zero Effect (1998)</th>\n",
       "      <td>3.750831</td>\n",
       "    </tr>\n",
       "    <tr>\n",
       "      <th>Zero Kelvin (Kjærlighetens kjøtere) (1995)</th>\n",
       "      <td>3.500000</td>\n",
       "    </tr>\n",
       "    <tr>\n",
       "      <th>Zeus and Roxanne (1997)</th>\n",
       "      <td>2.521739</td>\n",
       "    </tr>\n",
       "    <tr>\n",
       "      <th>eXistenZ (1999)</th>\n",
       "      <td>3.256098</td>\n",
       "    </tr>\n",
       "  </tbody>\n",
       "</table>\n",
       "<p>3706 rows × 1 columns</p>\n",
       "</div>"
      ],
      "text/plain": [
       "                                             Ratings\n",
       "Title                                               \n",
       "$1,000,000 Duck (1971)                      3.027027\n",
       "'Night Mother (1986)                        3.371429\n",
       "'Til There Was You (1997)                   2.692308\n",
       "'burbs, The (1989)                          2.910891\n",
       "...And Justice for All (1979)               3.713568\n",
       "...                                              ...\n",
       "Zed & Two Noughts, A (1985)                 3.413793\n",
       "Zero Effect (1998)                          3.750831\n",
       "Zero Kelvin (Kjærlighetens kjøtere) (1995)  3.500000\n",
       "Zeus and Roxanne (1997)                     2.521739\n",
       "eXistenZ (1999)                             3.256098\n",
       "\n",
       "[3706 rows x 1 columns]"
      ]
     },
     "execution_count": 9,
     "metadata": {},
     "output_type": "execute_result"
    }
   ],
   "source": [
    "mean_ratings=data.pivot_table('Ratings','Title',aggfunc='mean')\n",
    "mean_ratings"
   ]
  },
  {
   "cell_type": "markdown",
   "metadata": {
    "id": "4wn6AJdh_sEP"
   },
   "source": [
    "Now, we can take the `mean_ratings` and sort it by the value of the rating itself. Using this and the `head` function, we can display the top 15 movies by average rating."
   ]
  },
  {
   "cell_type": "code",
   "execution_count": 10,
   "metadata": {
    "id": "4wn6AJdh_sEP",
    "tags": []
   },
   "outputs": [
    {
     "data": {
      "text/html": [
       "<div>\n",
       "<style scoped>\n",
       "    .dataframe tbody tr th:only-of-type {\n",
       "        vertical-align: middle;\n",
       "    }\n",
       "\n",
       "    .dataframe tbody tr th {\n",
       "        vertical-align: top;\n",
       "    }\n",
       "\n",
       "    .dataframe thead th {\n",
       "        text-align: right;\n",
       "    }\n",
       "</style>\n",
       "<table border=\"1\" class=\"dataframe\">\n",
       "  <thead>\n",
       "    <tr style=\"text-align: right;\">\n",
       "      <th></th>\n",
       "      <th>Ratings</th>\n",
       "    </tr>\n",
       "    <tr>\n",
       "      <th>Title</th>\n",
       "      <th></th>\n",
       "    </tr>\n",
       "  </thead>\n",
       "  <tbody>\n",
       "    <tr>\n",
       "      <th>Ulysses (Ulisse) (1954)</th>\n",
       "      <td>5.000000</td>\n",
       "    </tr>\n",
       "    <tr>\n",
       "      <th>Lured (1947)</th>\n",
       "      <td>5.000000</td>\n",
       "    </tr>\n",
       "    <tr>\n",
       "      <th>Follow the Bitch (1998)</th>\n",
       "      <td>5.000000</td>\n",
       "    </tr>\n",
       "    <tr>\n",
       "      <th>Bittersweet Motel (2000)</th>\n",
       "      <td>5.000000</td>\n",
       "    </tr>\n",
       "    <tr>\n",
       "      <th>Song of Freedom (1936)</th>\n",
       "      <td>5.000000</td>\n",
       "    </tr>\n",
       "    <tr>\n",
       "      <th>One Little Indian (1973)</th>\n",
       "      <td>5.000000</td>\n",
       "    </tr>\n",
       "    <tr>\n",
       "      <th>Smashing Time (1967)</th>\n",
       "      <td>5.000000</td>\n",
       "    </tr>\n",
       "    <tr>\n",
       "      <th>Schlafes Bruder (Brother of Sleep) (1995)</th>\n",
       "      <td>5.000000</td>\n",
       "    </tr>\n",
       "    <tr>\n",
       "      <th>Gate of Heavenly Peace, The (1995)</th>\n",
       "      <td>5.000000</td>\n",
       "    </tr>\n",
       "    <tr>\n",
       "      <th>Baby, The (1973)</th>\n",
       "      <td>5.000000</td>\n",
       "    </tr>\n",
       "    <tr>\n",
       "      <th>I Am Cuba (Soy Cuba/Ya Kuba) (1964)</th>\n",
       "      <td>4.800000</td>\n",
       "    </tr>\n",
       "    <tr>\n",
       "      <th>Lamerica (1994)</th>\n",
       "      <td>4.750000</td>\n",
       "    </tr>\n",
       "    <tr>\n",
       "      <th>Apple, The (Sib) (1998)</th>\n",
       "      <td>4.666667</td>\n",
       "    </tr>\n",
       "    <tr>\n",
       "      <th>Sanjuro (1962)</th>\n",
       "      <td>4.608696</td>\n",
       "    </tr>\n",
       "    <tr>\n",
       "      <th>Seven Samurai (The Magnificent Seven) (Shichinin no samurai) (1954)</th>\n",
       "      <td>4.560510</td>\n",
       "    </tr>\n",
       "  </tbody>\n",
       "</table>\n",
       "</div>"
      ],
      "text/plain": [
       "                                                     Ratings\n",
       "Title                                                       \n",
       "Ulysses (Ulisse) (1954)                             5.000000\n",
       "Lured (1947)                                        5.000000\n",
       "Follow the Bitch (1998)                             5.000000\n",
       "Bittersweet Motel (2000)                            5.000000\n",
       "Song of Freedom (1936)                              5.000000\n",
       "One Little Indian (1973)                            5.000000\n",
       "Smashing Time (1967)                                5.000000\n",
       "Schlafes Bruder (Brother of Sleep) (1995)           5.000000\n",
       "Gate of Heavenly Peace, The (1995)                  5.000000\n",
       "Baby, The (1973)                                    5.000000\n",
       "I Am Cuba (Soy Cuba/Ya Kuba) (1964)                 4.800000\n",
       "Lamerica (1994)                                     4.750000\n",
       "Apple, The (Sib) (1998)                             4.666667\n",
       "Sanjuro (1962)                                      4.608696\n",
       "Seven Samurai (The Magnificent Seven) (Shichini...  4.560510"
      ]
     },
     "execution_count": 10,
     "metadata": {},
     "output_type": "execute_result"
    }
   ],
   "source": [
    "mean_ratings=data.pivot_table('Ratings',index=[\"Title\"],aggfunc='mean')\n",
    "top_15_mean_ratings = mean_ratings.sort_values(by = 'Ratings',ascending = False).head(15)\n",
    "top_15_mean_ratings"
   ]
  },
  {
   "cell_type": "markdown",
   "metadata": {
    "id": "4wn6AJdh_sEP"
   },
   "source": [
    "Let's adjust our original `mean_ratings` function to account for the differences in gender between reviews. This will be similar to the same code as before, except now we will provide an additional `columns` parameter which will separate the average ratings for men and women, respectively."
   ]
  },
  {
   "cell_type": "code",
   "execution_count": 11,
   "metadata": {
    "id": "4wn6AJdh_sEP",
    "tags": []
   },
   "outputs": [
    {
     "data": {
      "text/html": [
       "<div>\n",
       "<style scoped>\n",
       "    .dataframe tbody tr th:only-of-type {\n",
       "        vertical-align: middle;\n",
       "    }\n",
       "\n",
       "    .dataframe tbody tr th {\n",
       "        vertical-align: top;\n",
       "    }\n",
       "\n",
       "    .dataframe thead th {\n",
       "        text-align: right;\n",
       "    }\n",
       "</style>\n",
       "<table border=\"1\" class=\"dataframe\">\n",
       "  <thead>\n",
       "    <tr style=\"text-align: right;\">\n",
       "      <th>Gender</th>\n",
       "      <th>F</th>\n",
       "      <th>M</th>\n",
       "    </tr>\n",
       "    <tr>\n",
       "      <th>Title</th>\n",
       "      <th></th>\n",
       "      <th></th>\n",
       "    </tr>\n",
       "  </thead>\n",
       "  <tbody>\n",
       "    <tr>\n",
       "      <th>$1,000,000 Duck (1971)</th>\n",
       "      <td>3.375000</td>\n",
       "      <td>2.761905</td>\n",
       "    </tr>\n",
       "    <tr>\n",
       "      <th>'Night Mother (1986)</th>\n",
       "      <td>3.388889</td>\n",
       "      <td>3.352941</td>\n",
       "    </tr>\n",
       "    <tr>\n",
       "      <th>'Til There Was You (1997)</th>\n",
       "      <td>2.675676</td>\n",
       "      <td>2.733333</td>\n",
       "    </tr>\n",
       "    <tr>\n",
       "      <th>'burbs, The (1989)</th>\n",
       "      <td>2.793478</td>\n",
       "      <td>2.962085</td>\n",
       "    </tr>\n",
       "    <tr>\n",
       "      <th>...And Justice for All (1979)</th>\n",
       "      <td>3.828571</td>\n",
       "      <td>3.689024</td>\n",
       "    </tr>\n",
       "    <tr>\n",
       "      <th>...</th>\n",
       "      <td>...</td>\n",
       "      <td>...</td>\n",
       "    </tr>\n",
       "    <tr>\n",
       "      <th>Zed &amp; Two Noughts, A (1985)</th>\n",
       "      <td>3.500000</td>\n",
       "      <td>3.380952</td>\n",
       "    </tr>\n",
       "    <tr>\n",
       "      <th>Zero Effect (1998)</th>\n",
       "      <td>3.864407</td>\n",
       "      <td>3.723140</td>\n",
       "    </tr>\n",
       "    <tr>\n",
       "      <th>Zero Kelvin (Kjærlighetens kjøtere) (1995)</th>\n",
       "      <td>NaN</td>\n",
       "      <td>3.500000</td>\n",
       "    </tr>\n",
       "    <tr>\n",
       "      <th>Zeus and Roxanne (1997)</th>\n",
       "      <td>2.777778</td>\n",
       "      <td>2.357143</td>\n",
       "    </tr>\n",
       "    <tr>\n",
       "      <th>eXistenZ (1999)</th>\n",
       "      <td>3.098592</td>\n",
       "      <td>3.289086</td>\n",
       "    </tr>\n",
       "  </tbody>\n",
       "</table>\n",
       "<p>3706 rows × 2 columns</p>\n",
       "</div>"
      ],
      "text/plain": [
       "Gender                                             F         M\n",
       "Title                                                         \n",
       "$1,000,000 Duck (1971)                      3.375000  2.761905\n",
       "'Night Mother (1986)                        3.388889  3.352941\n",
       "'Til There Was You (1997)                   2.675676  2.733333\n",
       "'burbs, The (1989)                          2.793478  2.962085\n",
       "...And Justice for All (1979)               3.828571  3.689024\n",
       "...                                              ...       ...\n",
       "Zed & Two Noughts, A (1985)                 3.500000  3.380952\n",
       "Zero Effect (1998)                          3.864407  3.723140\n",
       "Zero Kelvin (Kjærlighetens kjøtere) (1995)       NaN  3.500000\n",
       "Zeus and Roxanne (1997)                     2.777778  2.357143\n",
       "eXistenZ (1999)                             3.098592  3.289086\n",
       "\n",
       "[3706 rows x 2 columns]"
      ]
     },
     "execution_count": 11,
     "metadata": {},
     "output_type": "execute_result"
    }
   ],
   "source": [
    "mean_ratings=data.pivot_table('Ratings',index=[\"Title\"],columns=[\"Gender\"],aggfunc='mean')\n",
    "mean_ratings"
   ]
  },
  {
   "cell_type": "markdown",
   "metadata": {
    "id": "4wn6AJdh_sEP"
   },
   "source": [
    "We can now sort the ratings as before, but instead of by `Rating`, but by the `F` and `M` gendered rating columns. Print the top rated movies by male and female reviews, respectively."
   ]
  },
  {
   "cell_type": "code",
   "execution_count": 12,
   "metadata": {
    "id": "4wn6AJdh_sEP",
    "tags": []
   },
   "outputs": [
    {
     "name": "stdout",
     "output_type": "stream",
     "text": [
      "Gender                                               F         M\n",
      "Title                                                           \n",
      "Clean Slate (Coup de Torchon) (1981)               5.0  3.857143\n",
      "Ballad of Narayama, The (Narayama Bushiko) (1958)  5.0  3.428571\n",
      "Raw Deal (1948)                                    5.0  3.307692\n",
      "Bittersweet Motel (2000)                           5.0       NaN\n",
      "Skipped Parts (2000)                               5.0  4.000000\n",
      "Lamerica (1994)                                    5.0  4.666667\n",
      "Gambler, The (A Játékos) (1997)                    5.0  3.166667\n",
      "Brother, Can You Spare a Dime? (1975)              5.0  3.642857\n",
      "Ayn Rand: A Sense of Life (1997)                   5.0  4.000000\n",
      "24 7: Twenty Four Seven (1997)                     5.0  3.750000\n",
      "Twice Upon a Yesterday (1998)                      5.0  3.222222\n",
      "Woman of Paris, A (1923)                           5.0  2.428571\n",
      "I Am Cuba (Soy Cuba/Ya Kuba) (1964)                5.0  4.750000\n",
      "Gate of Heavenly Peace, The (1995)                 5.0  5.000000\n",
      "For the Moment (1994)                              5.0  3.000000\n",
      "Gender                                              F         M\n",
      "Title                                                          \n",
      "Schlafes Bruder (Brother of Sleep) (1995)         NaN  5.000000\n",
      "Small Wonders (1996)                         3.333333  5.000000\n",
      "Gate of Heavenly Peace, The (1995)           5.000000  5.000000\n",
      "Baby, The (1973)                                  NaN  5.000000\n",
      "Ulysses (Ulisse) (1954)                           NaN  5.000000\n",
      "Dangerous Game (1993)                        4.000000  5.000000\n",
      "Angela (1995)                                3.000000  5.000000\n",
      "Bells, The (1926)                            4.000000  5.000000\n",
      "Smashing Time (1967)                              NaN  5.000000\n",
      "Follow the Bitch (1998)                           NaN  5.000000\n",
      "Lured (1947)                                      NaN  5.000000\n",
      "Time of the Gypsies (Dom za vesanje) (1989)  3.500000  4.833333\n",
      "I Am Cuba (Soy Cuba/Ya Kuba) (1964)          5.000000  4.750000\n",
      "Lamerica (1994)                              5.000000  4.666667\n",
      "Window to Paris (1994)                       4.000000  4.666667\n"
     ]
    }
   ],
   "source": [
    "data=pd.merge(pd.merge(ratings_data,user_data),movies_data)\n",
    "\n",
    "mean_ratings=data.pivot_table('Ratings',index=[\"Title\"],columns=[\"Gender\"],aggfunc='mean')\n",
    "top_female_ratings = mean_ratings.sort_values(by='F', ascending=False)\n",
    "print(top_female_ratings.head(15))\n",
    "\n",
    "top_male_ratings = mean_ratings.sort_values(by='M', ascending=False)\n",
    "print(top_male_ratings.head(15))"
   ]
  },
  {
   "cell_type": "code",
   "execution_count": 13,
   "metadata": {
    "id": "4wn6AJdh_sEP",
    "tags": []
   },
   "outputs": [
    {
     "data": {
      "text/html": [
       "<div>\n",
       "<style scoped>\n",
       "    .dataframe tbody tr th:only-of-type {\n",
       "        vertical-align: middle;\n",
       "    }\n",
       "\n",
       "    .dataframe tbody tr th {\n",
       "        vertical-align: top;\n",
       "    }\n",
       "\n",
       "    .dataframe thead th {\n",
       "        text-align: right;\n",
       "    }\n",
       "</style>\n",
       "<table border=\"1\" class=\"dataframe\">\n",
       "  <thead>\n",
       "    <tr style=\"text-align: right;\">\n",
       "      <th>Gender</th>\n",
       "      <th>F</th>\n",
       "      <th>M</th>\n",
       "      <th>diff</th>\n",
       "    </tr>\n",
       "    <tr>\n",
       "      <th>Title</th>\n",
       "      <th></th>\n",
       "      <th></th>\n",
       "      <th></th>\n",
       "    </tr>\n",
       "  </thead>\n",
       "  <tbody>\n",
       "    <tr>\n",
       "      <th>James Dean Story, The (1957)</th>\n",
       "      <td>4.000000</td>\n",
       "      <td>1.000000</td>\n",
       "      <td>-3.000000</td>\n",
       "    </tr>\n",
       "    <tr>\n",
       "      <th>Country Life (1994)</th>\n",
       "      <td>5.000000</td>\n",
       "      <td>2.000000</td>\n",
       "      <td>-3.000000</td>\n",
       "    </tr>\n",
       "    <tr>\n",
       "      <th>Spiders, The (Die Spinnen, 1. Teil: Der Goldene See) (1919)</th>\n",
       "      <td>4.000000</td>\n",
       "      <td>1.000000</td>\n",
       "      <td>-3.000000</td>\n",
       "    </tr>\n",
       "    <tr>\n",
       "      <th>Babyfever (1994)</th>\n",
       "      <td>3.666667</td>\n",
       "      <td>1.000000</td>\n",
       "      <td>-2.666667</td>\n",
       "    </tr>\n",
       "    <tr>\n",
       "      <th>Woman of Paris, A (1923)</th>\n",
       "      <td>5.000000</td>\n",
       "      <td>2.428571</td>\n",
       "      <td>-2.571429</td>\n",
       "    </tr>\n",
       "    <tr>\n",
       "      <th>Cobra (1925)</th>\n",
       "      <td>4.000000</td>\n",
       "      <td>1.500000</td>\n",
       "      <td>-2.500000</td>\n",
       "    </tr>\n",
       "    <tr>\n",
       "      <th>Other Side of Sunday, The (Søndagsengler) (1996)</th>\n",
       "      <td>5.000000</td>\n",
       "      <td>2.928571</td>\n",
       "      <td>-2.071429</td>\n",
       "    </tr>\n",
       "    <tr>\n",
       "      <th>To Have, or Not (1995)</th>\n",
       "      <td>4.000000</td>\n",
       "      <td>2.000000</td>\n",
       "      <td>-2.000000</td>\n",
       "    </tr>\n",
       "    <tr>\n",
       "      <th>For the Moment (1994)</th>\n",
       "      <td>5.000000</td>\n",
       "      <td>3.000000</td>\n",
       "      <td>-2.000000</td>\n",
       "    </tr>\n",
       "    <tr>\n",
       "      <th>Phat Beach (1996)</th>\n",
       "      <td>3.000000</td>\n",
       "      <td>1.000000</td>\n",
       "      <td>-2.000000</td>\n",
       "    </tr>\n",
       "  </tbody>\n",
       "</table>\n",
       "</div>"
      ],
      "text/plain": [
       "Gender                                                     F         M  \\\n",
       "Title                                                                    \n",
       "James Dean Story, The (1957)                        4.000000  1.000000   \n",
       "Country Life (1994)                                 5.000000  2.000000   \n",
       "Spiders, The (Die Spinnen, 1. Teil: Der Goldene...  4.000000  1.000000   \n",
       "Babyfever (1994)                                    3.666667  1.000000   \n",
       "Woman of Paris, A (1923)                            5.000000  2.428571   \n",
       "Cobra (1925)                                        4.000000  1.500000   \n",
       "Other Side of Sunday, The (Søndagsengler) (1996)    5.000000  2.928571   \n",
       "To Have, or Not (1995)                              4.000000  2.000000   \n",
       "For the Moment (1994)                               5.000000  3.000000   \n",
       "Phat Beach (1996)                                   3.000000  1.000000   \n",
       "\n",
       "Gender                                                  diff  \n",
       "Title                                                         \n",
       "James Dean Story, The (1957)                       -3.000000  \n",
       "Country Life (1994)                                -3.000000  \n",
       "Spiders, The (Die Spinnen, 1. Teil: Der Goldene... -3.000000  \n",
       "Babyfever (1994)                                   -2.666667  \n",
       "Woman of Paris, A (1923)                           -2.571429  \n",
       "Cobra (1925)                                       -2.500000  \n",
       "Other Side of Sunday, The (Søndagsengler) (1996)   -2.071429  \n",
       "To Have, or Not (1995)                             -2.000000  \n",
       "For the Moment (1994)                              -2.000000  \n",
       "Phat Beach (1996)                                  -2.000000  "
      ]
     },
     "execution_count": 13,
     "metadata": {},
     "output_type": "execute_result"
    }
   ],
   "source": [
    "mean_ratings['diff'] = mean_ratings['M'] - mean_ratings['F']\n",
    "sorted_by_diff = mean_ratings.sort_values(by='diff')\n",
    "sorted_by_diff[:10]"
   ]
  },
  {
   "cell_type": "markdown",
   "metadata": {
    "id": "4wn6AJdh_sEP"
   },
   "source": [
    "Let's try grouping the data-frame, instead, to see how different titles compare in terms of the number of ratings. Group by `Title` and then take the top 10 items by number of reviews. We can see here the most popularly-reviewed titles."
   ]
  },
  {
   "cell_type": "code",
   "execution_count": 14,
   "metadata": {
    "id": "4wn6AJdh_sEP",
    "tags": []
   },
   "outputs": [
    {
     "data": {
      "text/plain": [
       "Title\n",
       "American Beauty (1999)                                   3428\n",
       "Star Wars: Episode IV - A New Hope (1977)                2991\n",
       "Star Wars: Episode V - The Empire Strikes Back (1980)    2990\n",
       "Star Wars: Episode VI - Return of the Jedi (1983)        2883\n",
       "Jurassic Park (1993)                                     2672\n",
       "Saving Private Ryan (1998)                               2653\n",
       "Terminator 2: Judgment Day (1991)                        2649\n",
       "Matrix, The (1999)                                       2590\n",
       "Back to the Future (1985)                                2583\n",
       "Silence of the Lambs, The (1991)                         2578\n",
       "dtype: int64"
      ]
     },
     "execution_count": 14,
     "metadata": {},
     "output_type": "execute_result"
    }
   ],
   "source": [
    "ratings_by_title=data.groupby('Title').size()\n",
    "ratings_by_title.sort_values(ascending=False).head(10)"
   ]
  },
  {
   "cell_type": "markdown",
   "metadata": {
    "id": "4wn6AJdh_sEP"
   },
   "source": [
    "Similarly, we can filter our grouped data-frame to get all titles with a certain number of reviews. Filter the dataset to get all movie titles such that the number of reviews is >= 2500."
   ]
  },
  {
   "cell_type": "markdown",
   "metadata": {},
   "source": [
    "Create a ratings matrix using Numpy. This matrix allows us to see the ratings for a given movie and user ID. Every element $[i,j]$ is a rating for movie $i$ by user $j$. Print the **shape** of the matrix produced.\n",
    "\n",
    "**Notes:**\n",
    "- Do *not* use `pivot_table`.\n",
    "- A ratings matrix is *not* the same as `ratings_data` from above.\n",
    "- If you're stuck, you might want to look into the `np.ndarray` datatype and how to create one of the desired shape.\n",
    "- Every review lies between 1 and 5, and thus fits within a `uint8` datatype, which you can specify to numpy."
   ]
  },
  {
   "cell_type": "code",
   "execution_count": 15,
   "metadata": {
    "tags": []
   },
   "outputs": [],
   "source": [
    "### use numpy to create a ratings data matrix\n",
    "nr_users = np.max(ratings_data.UserID.values)\n",
    "nr_movies = np.max(ratings_data.MovieID.values)\n",
    "ratings_matrix = np.ndarray(shape=(nr_users, nr_movies),dtype=np.uint8)"
   ]
  },
  {
   "cell_type": "code",
   "execution_count": 16,
   "metadata": {
    "tags": []
   },
   "outputs": [
    {
     "data": {
      "text/plain": [
       "(6040, 3952)"
      ]
     },
     "execution_count": 16,
     "metadata": {},
     "output_type": "execute_result"
    }
   ],
   "source": [
    "# Print the shape\n",
    "ratings_matrix.shape"
   ]
  },
  {
   "cell_type": "code",
   "execution_count": 17,
   "metadata": {
    "tags": []
   },
   "outputs": [
    {
     "data": {
      "text/plain": [
       "array([1.42599338, 0.37152318, 0.23874172, ..., 0.03278146, 0.02582781,\n",
       "       0.24288079])"
      ]
     },
     "execution_count": 17,
     "metadata": {},
     "output_type": "execute_result"
    }
   ],
   "source": [
    "ratings_matrix[ratings_data.UserID.values - 1, ratings_data.MovieID.values - 1] = ratings_data.Ratings.values\n",
    "ratings_matrix.mean(axis=0)"
   ]
  },
  {
   "cell_type": "markdown",
   "metadata": {},
   "source": [
    "Normalize the ratings matrix (created in **Question 1**) using Z-score normalization. While we can't use `sklearn`'s `StandardScaler` for this step, we can do the statistical calculations ourselves to normalize the data.\n",
    "\n",
    "Before you start:\n",
    "- All of the `NaN` values in the dataset should be replaced with the average rating for the given movie. This is a complex topic, but for our case replacing empty values with the mean will make it so that the absence of a rating doesn't affect the overall average, and it provides an \"expected value\" which is useful for computing correlations and recommendations in later steps. \n",
    "- Your first step should be to get the average of every *column* of the ratings matrix (we want an average by title, not just by user!).\n",
    "- Second, we want to subtract the average from the original ratings thus allowing us to get a mean of 0 in every row. It may be very close but not exactly zero because of the limited precision `float`s allow."
   ]
  },
  {
   "cell_type": "code",
   "execution_count": 18,
   "metadata": {
    "tags": []
   },
   "outputs": [
    {
     "name": "stderr",
     "output_type": "stream",
     "text": [
      "C:\\Users\\kaizu\\AppData\\Local\\Temp\\ipykernel_7740\\4165226112.py:1: RuntimeWarning: invalid value encountered in true_divide\n",
      "  ratings_matrix = (ratings_matrix - ratings_matrix.mean(axis = 0))/ratings_matrix.std(axis = 0) #normalize the data\n"
     ]
    }
   ],
   "source": [
    "ratings_matrix = (ratings_matrix - ratings_matrix.mean(axis = 0))/ratings_matrix.std(axis = 0) #normalize the data"
   ]
  },
  {
   "cell_type": "code",
   "execution_count": 19,
   "metadata": {
    "scrolled": true,
    "tags": []
   },
   "outputs": [],
   "source": [
    "ratings_matrix[np.isnan(ratings_matrix)] = 0 #replace nan values with 0."
   ]
  },
  {
   "cell_type": "code",
   "execution_count": 20,
   "metadata": {
    "tags": []
   },
   "outputs": [
    {
     "data": {
      "text/plain": [
       "(6040, 3952)"
      ]
     },
     "execution_count": 20,
     "metadata": {},
     "output_type": "execute_result"
    }
   ],
   "source": [
    "ratings_matrix.shape"
   ]
  },
  {
   "cell_type": "markdown",
   "metadata": {
    "id": "LMTGisty8vux"
   },
   "source": [
    "We're now going to perform Singular Value Decomposition (SVD) on the normalized ratings matrix from the previous question. Perform the process using numpy, and along the way print the shapes of the $U$, $S$, and $V$ matrices you calculated."
   ]
  },
  {
   "cell_type": "code",
   "execution_count": 16,
   "metadata": {},
   "outputs": [],
   "source": [
    "# Compute the SVD of the normalised matrix"
   ]
  },
  {
   "cell_type": "code",
   "execution_count": 21,
   "metadata": {
    "tags": []
   },
   "outputs": [],
   "source": [
    "u,s,v = np.linalg.svd(ratings_matrix,full_matrices=False)"
   ]
  },
  {
   "cell_type": "code",
   "execution_count": 22,
   "metadata": {
    "tags": []
   },
   "outputs": [
    {
     "data": {
      "text/plain": [
       "(3952, 3952)"
      ]
     },
     "execution_count": 22,
     "metadata": {},
     "output_type": "execute_result"
    }
   ],
   "source": [
    "#Test to ensure v is orthonormal.\n",
    "v.dot(v.T).shape"
   ]
  },
  {
   "cell_type": "code",
   "execution_count": 19,
   "metadata": {
    "id": "rPQyIi5sFYXH"
   },
   "outputs": [],
   "source": [
    "#Print USV shapes."
   ]
  },
  {
   "cell_type": "code",
   "execution_count": 23,
   "metadata": {
    "colab": {
     "base_uri": "https://localhost:8080/"
    },
    "id": "H5hkpi0LFhw2",
    "outputId": "d2ab6426-625b-40d3-b72a-c25a5f9882e4",
    "tags": []
   },
   "outputs": [
    {
     "name": "stdout",
     "output_type": "stream",
     "text": [
      "U: (6040, 3952)\n",
      "S: (3952,)\n",
      "V: (3952, 3952)\n"
     ]
    }
   ],
   "source": [
    "print(f'U: {u.shape}')\n",
    "print(f'S: {s.shape}')\n",
    "print(f'V: {v.shape}')"
   ]
  },
  {
   "cell_type": "markdown",
   "metadata": {},
   "source": [
    "Reconstruct four rank-k rating matrix $R_k$, where $R_k = U_kS_kV_k^T$ for k = [100, 1000, 2000, 3000]. Using each of $R_k$ make predictions for 3 users (select them from the dataset) for the movie with ID 1377 (Batman Returns)."
   ]
  },
  {
   "cell_type": "code",
   "execution_count": 24,
   "metadata": {
    "tags": []
   },
   "outputs": [],
   "source": [
    "def rank_k_approx(u,s,v,rank):    \n",
    "    u1 = u[:, :rank]\n",
    "    s1 = s[:rank]\n",
    "    v1 = v[:rank, :]\n",
    "    a1 = u1.dot(np.diag(s1).dot(v1))\n",
    "    return a1"
   ]
  },
  {
   "cell_type": "code",
   "execution_count": 25,
   "metadata": {
    "tags": []
   },
   "outputs": [],
   "source": [
    "r_100 = rank_k_approx(u,s,v,100)\n",
    "r_1000 = rank_k_approx(u,s,v,1000)\n",
    "r_2000 = rank_k_approx(u,s,v,2000)\n",
    "r_3000 = rank_k_approx(u,s,v,3000)"
   ]
  },
  {
   "cell_type": "code",
   "execution_count": 26,
   "metadata": {
    "tags": []
   },
   "outputs": [
    {
     "name": "stdout",
     "output_type": "stream",
     "text": [
      "UserID: 100\n",
      "MovieID 1377:\n",
      "Movie Title: Batman Returns (1992)\n",
      "Rank-Approximation: 1.7489493186395175\n",
      "________________________________________\n",
      "UserID: 200\n",
      "MovieID 1377:\n",
      "Movie Title: Batman Returns (1992)\n",
      "Rank-Approximation: -0.8601408866346879\n",
      "________________________________________\n",
      "UserID: 300\n",
      "MovieID 1377:\n",
      "Movie Title: Batman Returns (1992)\n",
      "Rank-Approximation: 3.359545189721215\n",
      "________________________________________\n"
     ]
    }
   ],
   "source": [
    "#Print Rank-k Approximation for k = 1000, and UserID 100,200,300\n",
    "for i in range(100,301,100):\n",
    "    print(f'UserID: {i}')\n",
    "    print(f'MovieID 1377:')\n",
    "    print(f'Movie Title: {data[data.MovieID == 1377].Title.values[0]}')\n",
    "    print(f'Rank-Approximation: {r_1000[i][1376]}')\n",
    "    print('_'*40)"
   ]
  },
  {
   "cell_type": "markdown",
   "metadata": {},
   "source": [
    "## Question 5"
   ]
  },
  {
   "cell_type": "markdown",
   "metadata": {},
   "source": [
    "### Cosine Similarity\n",
    "Cosine similarity is a metric used to measure how similar two vectors are. Mathematically, it measures the cosine of the angle between two vectors projected in a multi-dimensional space. Cosine similarity is high if the angle between two vectors is 0, and the output value ranges within $cosine(x,y) \\in [0,1]$. $0$ means there is no similarity (perpendicular), where $1$ (parallel) means that both the items are 100% similar.\n",
    "\n",
    "$$ cosine(x,y) = \\frac{x^T y}{||x|| ||y||}  $$"
   ]
  },
  {
   "cell_type": "markdown",
   "metadata": {
    "id": "mtb73iEU9MV4"
   },
   "source": [
    "**Based on the reconstruction rank-1000 rating matrix $R_{1000}$ and the cosine similarity,** sort the movies which are most similar. You will have a function `top_cosine_similarity` which sorts data by its similarity to a movie with ID `movie_id` and returns the top $n$ items, and a second function `print_similar_movies` which prints the titles of said similar movies. Return the top 5 movies for the movie with ID `1377` (*Batman Returns*):"
   ]
  },
  {
   "cell_type": "code",
   "execution_count": 27,
   "metadata": {
    "id": "AuE4g481HoH2",
    "tags": []
   },
   "outputs": [],
   "source": [
    "# Sort the movies based on cosine similarity\n",
    "def top_cosine_similarity(data, movie_id, top_n=5):\n",
    "    # Movie id starts from 1\n",
    "    #Use the calculation formula above   \n",
    "    i = movie_id -1\n",
    "    test_y = np.sqrt(np.sum(r_1000[:,i]**2))\n",
    "    test_x = np.sqrt(np.sum(np.power(r_1000,2)))\n",
    "    cos_sim = np.dot(data.T,data[:,i]) / (test_x * test_y)    \n",
    "    sorted_sim = np.argsort(-cos_sim)\n",
    "    np.delete(sorted_sim,0)\n",
    "    return sorted_sim[ 1 : top_n + 1]\n",
    "    \n",
    "def print_similar_movies(movie_data,movieID,top_indexes):\n",
    "    title = data[data.MovieID == movieID].Title.values[0]\n",
    "    print(f'Most Similar movies to {title}: ')    \n",
    "    for value in top_indexes + 1:\n",
    "        print(data[data.MovieID == value].Title.values[0])"
   ]
  },
  {
   "cell_type": "code",
   "execution_count": 28,
   "metadata": {
    "tags": []
   },
   "outputs": [
    {
     "name": "stdout",
     "output_type": "stream",
     "text": [
      "Most Similar movies to Batman Returns (1992): \n",
      "Batman Forever (1995)\n",
      "Batman & Robin (1997)\n",
      "Batman (1989)\n",
      "Dick Tracy (1990)\n",
      "True Lies (1994)\n"
     ]
    }
   ],
   "source": [
    "# Print the top 5 movies for Batman Returns\n",
    "movie_id = 1377\n",
    "cos_sim = top_cosine_similarity(r_1000,movie_id)\n",
    "print_similar_movies(data,movie_id,cos_sim)"
   ]
  }
 ],
 "metadata": {
  "colab": {
   "name": "Assignment 2 solutions.ipynb",
   "provenance": []
  },
  "kernelspec": {
   "display_name": "Python 3 (ipykernel)",
   "language": "python",
   "name": "python3"
  },
  "language_info": {
   "codemirror_mode": {
    "name": "ipython",
    "version": 3
   },
   "file_extension": ".py",
   "mimetype": "text/x-python",
   "name": "python",
   "nbconvert_exporter": "python",
   "pygments_lexer": "ipython3",
   "version": "3.10.4"
  },
  "vscode": {
   "interpreter": {
    "hash": "e7370f93d1d0cde622a1f8e1c04877d8463912d04d973331ad4851f04de6915a"
   }
  }
 },
 "nbformat": 4,
 "nbformat_minor": 4
}
